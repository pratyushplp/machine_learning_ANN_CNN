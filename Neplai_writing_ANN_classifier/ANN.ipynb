{
 "cells": [
  {
   "cell_type": "code",
   "execution_count": 19,
   "metadata": {},
   "outputs": [
    {
     "name": "stderr",
     "output_type": "stream",
     "text": [
      "D:\\anaconda3\\lib\\site-packages\\ipykernel_launcher.py:41: DeprecationWarning: `imread` is deprecated!\n",
      "`imread` is deprecated in SciPy 1.0.0, and will be removed in 1.2.0.\n",
      "Use ``imageio.imread`` instead.\n"
     ]
    },
    {
     "name": "stdout",
     "output_type": "stream",
     "text": [
      "(12912, 1296)\n",
      "(12912,)\n",
      "shape of X train is (10329, 1296)\n",
      "shape of Y train is (10329,)\n",
      "Shape before one-hot encoding:  (10329,)\n",
      "Shape after one-hot encoding:  (10329, 58)\n",
      "Train on 10329 samples, validate on 2583 samples\n",
      "Epoch 1/25\n",
      "10329/10329 [==============================] - 2s 242us/step - loss: 3.9635 - acc: 0.1072 - val_loss: 2.9647 - val_acc: 0.2977\n",
      "Epoch 2/25\n",
      "10329/10329 [==============================] - 1s 95us/step - loss: 2.5823 - acc: 0.3416 - val_loss: 1.9946 - val_acc: 0.5168\n",
      "Epoch 3/25\n",
      "10329/10329 [==============================] - 1s 92us/step - loss: 2.1015 - acc: 0.4585 - val_loss: 1.8316 - val_acc: 0.5490\n",
      "Epoch 4/25\n",
      "10329/10329 [==============================] - 1s 93us/step - loss: 1.8681 - acc: 0.5147 - val_loss: 1.6960 - val_acc: 0.5726\n",
      "Epoch 5/25\n",
      "10329/10329 [==============================] - 1s 93us/step - loss: 1.7154 - acc: 0.5531 - val_loss: 1.5146 - val_acc: 0.6125\n",
      "Epoch 6/25\n",
      "10329/10329 [==============================] - 1s 95us/step - loss: 1.5876 - acc: 0.5851 - val_loss: 1.4844 - val_acc: 0.6283\n",
      "Epoch 7/25\n",
      "10329/10329 [==============================] - 1s 94us/step - loss: 1.5103 - acc: 0.6032 - val_loss: 1.3476 - val_acc: 0.6539\n",
      "Epoch 8/25\n",
      "10329/10329 [==============================] - 1s 93us/step - loss: 1.4018 - acc: 0.6341 - val_loss: 1.3637 - val_acc: 0.6558\n",
      "Epoch 9/25\n",
      "10329/10329 [==============================] - 1s 96us/step - loss: 1.3500 - acc: 0.6468 - val_loss: 1.2801 - val_acc: 0.6783\n",
      "Epoch 10/25\n",
      "10329/10329 [==============================] - 1s 108us/step - loss: 1.2957 - acc: 0.6583 - val_loss: 1.2160 - val_acc: 0.6980\n",
      "Epoch 11/25\n",
      "10329/10329 [==============================] - 1s 92us/step - loss: 1.2525 - acc: 0.6796 - val_loss: 1.2152 - val_acc: 0.6949\n",
      "Epoch 12/25\n",
      "10329/10329 [==============================] - 1s 94us/step - loss: 1.2094 - acc: 0.6873 - val_loss: 1.1640 - val_acc: 0.7050\n",
      "Epoch 13/25\n",
      "10329/10329 [==============================] - 1s 93us/step - loss: 1.1524 - acc: 0.7036 - val_loss: 1.1988 - val_acc: 0.6953\n",
      "Epoch 14/25\n",
      "10329/10329 [==============================] - 1s 93us/step - loss: 1.1440 - acc: 0.7039 - val_loss: 1.1640 - val_acc: 0.7085\n",
      "Epoch 15/25\n",
      "10329/10329 [==============================] - 1s 93us/step - loss: 1.1145 - acc: 0.7115 - val_loss: 1.1522 - val_acc: 0.7062\n",
      "Epoch 16/25\n",
      "10329/10329 [==============================] - 1s 94us/step - loss: 1.0601 - acc: 0.7262 - val_loss: 1.1344 - val_acc: 0.7139\n",
      "Epoch 17/25\n",
      "10329/10329 [==============================] - 1s 100us/step - loss: 1.0389 - acc: 0.7382 - val_loss: 1.0832 - val_acc: 0.7333\n",
      "Epoch 18/25\n",
      "10329/10329 [==============================] - 1s 93us/step - loss: 1.0236 - acc: 0.7378 - val_loss: 1.0817 - val_acc: 0.7255\n",
      "Epoch 19/25\n",
      "10329/10329 [==============================] - 1s 98us/step - loss: 0.9860 - acc: 0.7446 - val_loss: 1.0917 - val_acc: 0.7286\n",
      "Epoch 20/25\n",
      "10329/10329 [==============================] - 1s 93us/step - loss: 0.9806 - acc: 0.7526 - val_loss: 1.0820 - val_acc: 0.7282\n",
      "Epoch 21/25\n",
      "10329/10329 [==============================] - 1s 94us/step - loss: 0.9360 - acc: 0.7637 - val_loss: 1.0474 - val_acc: 0.7402\n",
      "Epoch 22/25\n",
      "10329/10329 [==============================] - 1s 94us/step - loss: 0.9216 - acc: 0.7733 - val_loss: 1.1389 - val_acc: 0.7116\n",
      "Epoch 23/25\n",
      "10329/10329 [==============================] - 1s 96us/step - loss: 0.9065 - acc: 0.7744 - val_loss: 1.0660 - val_acc: 0.7352\n",
      "Epoch 24/25\n",
      "10329/10329 [==============================] - 1s 96us/step - loss: 0.9006 - acc: 0.7681 - val_loss: 1.0383 - val_acc: 0.7402\n",
      "Epoch 25/25\n",
      "10329/10329 [==============================] - 1s 94us/step - loss: 0.8880 - acc: 0.7785 - val_loss: 1.0035 - val_acc: 0.7511\n",
      "Saved trained model at D:\\ML\\cnn.h5 \n"
     ]
    },
    {
     "data": {
      "text/plain": [
       "<matplotlib.legend.Legend at 0x169ac807438>"
      ]
     },
     "execution_count": 19,
     "metadata": {},
     "output_type": "execute_result"
    },
    {
     "data": {
      "image/png": "[encoded data removed]",
      "text/plain": [
       "<Figure size 432x288 with 2 Axes>"
      ]
     },
     "metadata": {},
     "output_type": "display_data"
    }
   ],
   "source": [
    "import scipy.misc\n",
    "import keras\n",
    "import tensorflow as tf\n",
    "import glob\n",
    "import numpy as np\n",
    "import pandas as pd\n",
    "from sklearn.linear_model import LogisticRegression\n",
    "from sklearn.model_selection import train_test_split\n",
    "\n",
    "from keras.datasets import mnist\n",
    "from keras.models import Sequential\n",
    "from keras.layers import Dense, Dropout, Flatten, Activation\n",
    "from keras.layers import Conv2D, MaxPooling2D\n",
    "from keras import backend as K\n",
    "from keras.layers.normalization import BatchNormalization\n",
    "import matplotlib.pyplot as plt\n",
    "import os\n",
    "from keras import regularizers\n",
    "\n",
    "#must for gpu\n",
    "os.environ[\"CUDA_VISIBLE_DEVICES\"] = '0' #use GPU with ID=0\n",
    "config = tf.ConfigProto()\n",
    "config.gpu_options.per_process_gpu_memory_fraction = 0.5 # maximun alloc gpu50% of MEM\n",
    "config.gpu_options.allow_growth = True #allocate dynamically\n",
    "sess = tf.Session(config = config)\n",
    "\n",
    "\n",
    "# load own handwriting\n",
    "dataset = []\n",
    "\n",
    "# load the png image data\n",
    "os.chdir('D:/')\n",
    "for image_file_name in glob.glob('ML/nepali_characters/*/*/*.jpg'):\n",
    "   \n",
    "    label = int(image_file_name[-14:-11])\n",
    "    #data=pd.read_csv(\"/home/pratyush/Documents/labels_num.csv\")\n",
    "    #print(image_file_name[-14:-11])\n",
    "    \n",
    "    # load image data from png files into an array\n",
    "    #print (\"loading ... \", image_file_name)\n",
    "    img_array = scipy.misc.imread(image_file_name, flatten=True)  #Read an image from a file as an array\n",
    "    \n",
    "    # reshape from 36x36 to list of 1296 values, invert values\n",
    "    #img_data  = 255.0 - img_array.reshape(1296)\n",
    "    \n",
    "    # then scale data to range from 0.01 to 1.0\n",
    "    img_data = (img_array.reshape(1296) / 255)\n",
    "    #print(numpy.min(img_data))\n",
    "    #print(numpy.max(img_data))    \n",
    "    # append label and image data  to test data set\n",
    "    record = np.append(img_data,label)\n",
    "    dataset.append(record)\n",
    "\n",
    "    \n",
    "#start\n",
    "data= np.array(dataset)\n",
    "np.random.shuffle(data)\n",
    "df=pd.DataFrame(data)\n",
    "df.to_csv(\"data.csv\")\n",
    "data_set=pd.read_csv(\"data.csv\")\n",
    "#print(data_set)\n",
    "\n",
    "#note: .iloc is necessary while using panda dataframe file\n",
    "\n",
    "#initailization\n",
    "X=np.array(data_set.iloc[:,1:1297])\n",
    "print(X.shape)\n",
    "Y=np.array(data_set.iloc[:,1297])\n",
    "b=1\n",
    "#Y_reshape=Y.reshape(-1,1)\n",
    "#Y_one= onehotencoder.fit_transform(Y_reshape)\n",
    "#print(Y_one)\n",
    "print(Y.shape)\n",
    "\n",
    "#splitting\n",
    "X_train,X_test,y_train,y_test=train_test_split(X,Y,test_size=0.2)\n",
    "# normalizing the data to help with the training\n",
    "\n",
    "W=np.zeros((1296))\n",
    "W_T=W.T\n",
    "print(\"shape of X train is\",X_train.shape)\n",
    "print(\"shape of Y train is\",y_train.shape)\n",
    "      \n",
    "# one-hot encoding using keras' numpy-related utilities\n",
    "n_classes=58\n",
    "print(\"Shape before one-hot encoding: \", y_train.shape)\n",
    "Y_train = keras.utils.to_categorical(y_train, n_classes)\n",
    "Y_test = keras.utils.to_categorical(y_test, n_classes)\n",
    "print(\"Shape after one-hot encoding: \", Y_train.shape)\n",
    "      \n",
    "model = Sequential()\n",
    "model.add(Dense(256, input_shape=(1296,)))\n",
    "model.add(Activation('relu'))                            \n",
    "model.add(Dropout(0.1))\n",
    "\n",
    "model.add(Dense(256,activation='relu',kernel_regularizer=regularizers.l2(0.001)))\n",
    "model.add(Dropout(0.1))\n",
    "\n",
    "model.add(Dense(256,activation='relu',kernel_regularizer=regularizers.l2(0.001)))\n",
    "model.add(Dropout(0.1))\n",
    "\n",
    "model.add(Dense(58))\n",
    "model.add(Activation('softmax'))\n",
    "      \n",
    "model.compile(loss='categorical_crossentropy', metrics=['accuracy'], optimizer='adam')\n",
    "      \n",
    "history1 = model.fit(X_train,Y_train,batch_size=90,epochs=25,verbose=1,validation_data=(X_test, Y_test))\n",
    "\n",
    "# saving the model\n",
    "save_dir = \"D:\\ML\"\n",
    "model_name = 'cnn.h5'\n",
    "model_path = os.path.join(save_dir, model_name)\n",
    "model.save(model_path)\n",
    "print('Saved trained model at %s ' % model_path)\n",
    "\n",
    "# plotting the metrics\n",
    "fig = plt.figure()\n",
    "plt.subplot(2,1,1)\n",
    "plt.plot(history1.history['acc'])\n",
    "plt.plot(history1.history['val_acc'])\n",
    "plt.title('model accuracy')\n",
    "plt.ylabel('accuracy')\n",
    "plt.xlabel('epoch')\n",
    "\n",
    "plt.subplot(2,1,2)\n",
    "plt.plot(history1.history['loss'])\n",
    "plt.plot(history1.history['val_loss'])\n",
    "plt.title('model loss')\n",
    "plt.ylabel('loss')\n",
    "plt.xlabel('epoch')\n",
    "plt.legend(['train', 'test'], loc='upper right')\n",
    "\n",
    "plt.tight_layout()\n",
    "\n",
    "fig\n",
    "plt.legend(['train', 'test'], loc='lower right')\n"
   ]
  },
  {
   "cell_type": "code",
   "execution_count": 12,
   "metadata": {
    "scrolled": true
   },
   "outputs": [
    {
     "name": "stdout",
     "output_type": "stream",
     "text": [
      "[55]\n",
      "(1296,)\n",
      "(36, 36)\n"
     ]
    },
    {
     "name": "stderr",
     "output_type": "stream",
     "text": [
      "D:\\anaconda3\\lib\\site-packages\\ipykernel_launcher.py:5: DeprecationWarning: `imsave` is deprecated!\n",
      "`imsave` is deprecated in SciPy 1.0.0, and will be removed in 1.2.0.\n",
      "Use ``imageio.imwrite`` instead.\n",
      "  \"\"\"\n"
     ]
    }
   ],
   "source": [
    "print(model.predict_classes(X_test[77:78]))\n",
    "\n",
    "image =X_test[77]\n",
    "#print(image.shape)\n",
    "scipy.misc.imsave(\"D:\\predict2.png\",image.reshape(-1,36))\n",
    "#ram=image.reshape(-1,36)\n",
    "#print(ram.shape)"
   ]
  },
  {
   "cell_type": "code",
   "execution_count": 8,
   "metadata": {},
   "outputs": [
    {
     "name": "stdout",
     "output_type": "stream",
     "text": [
      "[[1 2]\n",
      " [3 4]]\n"
     ]
    }
   ],
   "source": [
    "ram=np.array([[1, 2], [3, 4]])\n",
    "print(ram)"
   ]
  },
  {
   "cell_type": "code",
   "execution_count": 13,
   "metadata": {},
   "outputs": [
    {
     "data": {
      "text/plain": [
       "array([[0.01176471, 0.        ],\n",
       "       [0.03137255, 0.01176471],\n",
       "       [0.        , 0.        ],\n",
       "       ...,\n",
       "       [0.        , 0.        ],\n",
       "       [0.        , 0.        ],\n",
       "       [0.        , 0.        ]])"
      ]
     },
     "execution_count": 13,
     "metadata": {},
     "output_type": "execute_result"
    }
   ],
   "source": []
  },
  {
   "cell_type": "code",
   "execution_count": null,
   "metadata": {},
   "outputs": [],
   "source": []
  },
  {
   "cell_type": "code",
   "execution_count": 14,
   "metadata": {},
   "outputs": [
    {
     "data": {
      "text/plain": [
       "<matplotlib.legend.Legend at 0x1ad92be56a0>"
      ]
     },
     "execution_count": 14,
     "metadata": {},
     "output_type": "execute_result"
    },
    {
     "data": {
      "image/png": "[encoded data removed]",
      "text/plain": [
       "<Figure size 432x288 with 2 Axes>"
      ]
     },
     "metadata": {},
     "output_type": "display_data"
    }
   ],
   "source": [
    "# plotting the metrics\n",
    "fig = plt.figure()\n",
    "plt.subplot(2,1,1)\n",
    "plt.plot(history.history['acc'])\n",
    "plt.plot(history.history['val_acc'])\n",
    "plt.title('model accuracy')\n",
    "plt.ylabel('accuracy')\n",
    "plt.xlabel('epoch')\n",
    "\n",
    "plt.subplot(2,1,2)\n",
    "plt.plot(history.history['loss'])\n",
    "plt.plot(history.history['val_loss'])\n",
    "plt.title('model loss')\n",
    "plt.ylabel('loss')\n",
    "plt.xlabel('epoch')\n",
    "plt.legend(['train', 'test'], loc='upper right')\n",
    "\n",
    "plt.tight_layout()\n",
    "\n",
    "fig\n",
    "plt.legend(['train', 'test'], loc='lower right')\n"
   ]
  },
  {
   "cell_type": "code",
   "execution_count": null,
   "metadata": {},
   "outputs": [],
   "source": []
  }
 ],
 "metadata": {
  "kernelspec": {
   "display_name": "Python 3",
   "language": "python",
   "name": "python3"
  },
  "language_info": {
   "codemirror_mode": {
    "name": "ipython",
    "version": 3
   },
   "file_extension": ".py",
   "mimetype": "text/x-python",
   "name": "python",
   "nbconvert_exporter": "python",
   "pygments_lexer": "ipython3",
   "version": "3.6.5"
  }
 },
 "nbformat": 4,
 "nbformat_minor": 2
}
