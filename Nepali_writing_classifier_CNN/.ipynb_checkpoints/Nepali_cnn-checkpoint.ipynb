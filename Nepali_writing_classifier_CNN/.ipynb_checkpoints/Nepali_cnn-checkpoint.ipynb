{
 "cells": [
  {
   "cell_type": "code",
   "execution_count": 2,
   "metadata": {},
   "outputs": [
    {
     "name": "stderr",
     "output_type": "stream",
     "text": [
      "D:\\anaconda3\\lib\\site-packages\\h5py\\__init__.py:36: FutureWarning: Conversion of the second argument of issubdtype from `float` to `np.floating` is deprecated. In future, it will be treated as `np.float64 == np.dtype(float).type`.\n",
      "  from ._conv import register_converters as _register_converters\n",
      "Using TensorFlow backend.\n"
     ]
    },
    {
     "name": "stdout",
     "output_type": "stream",
     "text": [
      "(25824, 36, 36, 1)\n"
     ]
    }
   ],
   "source": [
    "import tensorflow as tf\n",
    "import numpy as np\n",
    "import keras\n",
    "from keras import regularizers\n",
    "\n",
    "from tensorflow.keras.models import Sequential\n",
    "from tensorflow.keras.layers import Dense,Dropout,Activation,Flatten,Conv2D,MaxPooling2D\n",
    "from sklearn.model_selection import train_test_split\n",
    "\n",
    "import pickle\n",
    "import time\n",
    "import matplotlib.pyplot as plt\n",
    "\n",
    "from tensorflow.keras.callbacks import TensorBoard\n",
    "import os\n",
    "os.environ[\"CUDA_VISIBLE_DEVICES\"] = '0' #use GPU with ID=0\n",
    "config = tf.ConfigProto()\n",
    "config.gpu_options.per_process_gpu_memory_fraction = 0.5 # maximun alloc gpu50% of MEM\n",
    "config.gpu_options.allow_growth = True #allocate dynamically\n",
    "sess = tf.Session(config = config)\n",
    "\n",
    "NAME=\"Nepali-cnn-model1-{}\".format(int(time.time()))\n",
    "tensorboard= TensorBoard(log_dir='logs/{}'.format(NAME),write_images=True)\n",
    "\n",
    "\n",
    "\n",
    "\n",
    "\n",
    "X=pickle.load(open(\"X_nepali.pickle\",\"rb\"))\n",
    "y=pickle.load(open(\"y_nepali.pickle\",\"rb\"))\n",
    "print(X.shape)\n",
    "\n"
   ]
  },
  {
   "cell_type": "code",
   "execution_count": 3,
   "metadata": {},
   "outputs": [
    {
     "name": "stdout",
     "output_type": "stream",
     "text": [
      "(36, 36, 1)\n",
      "Shape before one-hot encoding:  (25824,)\n",
      "Shape after one-hot encoding:  (25824, 58)\n"
     ]
    }
   ],
   "source": [
    " #normalization already done\n",
    "print(X.shape[1:])\n",
    "#X=np.array(X)\n",
    "#X_final=X.reshape(20,20)\n",
    "\n",
    "# one-hot encoding using keras' numpy-related utilities\n",
    "n_classes=58\n",
    "print(\"Shape before one-hot encoding: \", y.shape)\n",
    "Y = keras.utils.to_categorical(y, n_classes)\n",
    "#Y_test = keras.utils.to_categorical(y_test, n_classes)\n",
    "print(\"Shape after one-hot encoding: \", Y.shape)\n",
    "X_train,X_test,y_train,y_test=train_test_split(X,Y,stratify=Y,test_size=0.25)\n"
   ]
  },
  {
   "cell_type": "code",
   "execution_count": 10,
   "metadata": {},
   "outputs": [],
   "source": [
    "layer_size=82\n",
    "\n",
    "model= Sequential()\n",
    "#64 denotes the number of filters and (3,3) denotes the window size\n",
    "model.add(Conv2D(layer_size,(3,3),input_shape=X.shape[1:]))\n",
    "model.add(Activation('relu'))\n",
    "model.add(MaxPooling2D(pool_size=(2,2)))\n",
    "\n",
    "model.add(Conv2D(layer_size,(5,5)))\n",
    "model.add(Activation('relu'))\n",
    "model.add(MaxPooling2D(pool_size=(3,3)))\n",
    "\n",
    "model.add(Flatten())\n",
    "model.add(Dense(160, activation='relu',kernel_regularizer=regularizers.l2(0.003)))\n",
    "model.add(Dropout(0.2))\n",
    "\n",
    "\n",
    "model.add(Dense(58))\n",
    "model.add(Activation('softmax'))"
   ]
  },
  {
   "cell_type": "code",
   "execution_count": 11,
   "metadata": {},
   "outputs": [],
   "source": [
    "model.compile(loss=\"categorical_crossentropy\",optimizer='adam',metrics=['accuracy'])\n"
   ]
  },
  {
   "cell_type": "code",
   "execution_count": 12,
   "metadata": {},
   "outputs": [
    {
     "name": "stdout",
     "output_type": "stream",
     "text": [
      "Train on 20659 samples, validate on 5165 samples\n",
      "Epoch 1/20\n",
      "20659/20659 [==============================] - 11s 517us/step - loss: 1.6142 - acc: 0.6473 - val_loss: 0.9449 - val_acc: 0.8124\n",
      "Epoch 2/20\n",
      "20659/20659 [==============================] - 10s 462us/step - loss: 0.7614 - acc: 0.8494 - val_loss: 0.6964 - val_acc: 0.8786\n",
      "Epoch 3/20\n",
      "20659/20659 [==============================] - 10s 469us/step - loss: 0.6149 - acc: 0.8872 - val_loss: 0.6414 - val_acc: 0.8865\n",
      "Epoch 4/20\n",
      "20659/20659 [==============================] - 10s 467us/step - loss: 0.5404 - acc: 0.9074 - val_loss: 0.5526 - val_acc: 0.9061\n",
      "Epoch 5/20\n",
      "20659/20659 [==============================] - 10s 465us/step - loss: 0.4892 - acc: 0.9216 - val_loss: 0.5305 - val_acc: 0.9117\n",
      "Epoch 6/20\n",
      "20659/20659 [==============================] - 10s 469us/step - loss: 0.4556 - acc: 0.9290 - val_loss: 0.4956 - val_acc: 0.9220\n",
      "Epoch 7/20\n",
      "20659/20659 [==============================] - 10s 461us/step - loss: 0.4317 - acc: 0.9347 - val_loss: 0.4761 - val_acc: 0.9272\n",
      "Epoch 8/20\n",
      "20659/20659 [==============================] - 9s 456us/step - loss: 0.4099 - acc: 0.9424 - val_loss: 0.4633 - val_acc: 0.9301\n",
      "Epoch 9/20\n",
      "20659/20659 [==============================] - 9s 452us/step - loss: 0.3971 - acc: 0.9433 - val_loss: 0.4403 - val_acc: 0.9328\n",
      "Epoch 10/20\n",
      "20659/20659 [==============================] - 9s 450us/step - loss: 0.3867 - acc: 0.9457 - val_loss: 0.4286 - val_acc: 0.9363\n",
      "Epoch 11/20\n",
      "20659/20659 [==============================] - 9s 451us/step - loss: 0.3788 - acc: 0.9462 - val_loss: 0.4432 - val_acc: 0.9406\n",
      "Epoch 12/20\n",
      "20659/20659 [==============================] - 10s 482us/step - loss: 0.3742 - acc: 0.9479 - val_loss: 0.4410 - val_acc: 0.9367\n",
      "Epoch 13/20\n",
      "20659/20659 [==============================] - 10s 496us/step - loss: 0.3598 - acc: 0.9516 - val_loss: 0.4349 - val_acc: 0.9394\n",
      "Epoch 14/20\n",
      "20659/20659 [==============================] - 11s 517us/step - loss: 0.3542 - acc: 0.9539 - val_loss: 0.4684 - val_acc: 0.9278\n",
      "Epoch 15/20\n",
      "20659/20659 [==============================] - 10s 498us/step - loss: 0.3544 - acc: 0.9533 - val_loss: 0.4494 - val_acc: 0.9330\n",
      "Epoch 16/20\n",
      "20659/20659 [==============================] - 10s 460us/step - loss: 0.3453 - acc: 0.9564 - val_loss: 0.4313 - val_acc: 0.9365\n",
      "Epoch 17/20\n",
      "20659/20659 [==============================] - 10s 489us/step - loss: 0.3479 - acc: 0.9556 - val_loss: 0.4278 - val_acc: 0.9400\n",
      "Epoch 18/20\n",
      "20659/20659 [==============================] - 10s 483us/step - loss: 0.3423 - acc: 0.9565 - val_loss: 0.4404 - val_acc: 0.9353\n",
      "Epoch 19/20\n",
      "20659/20659 [==============================] - 10s 483us/step - loss: 0.3437 - acc: 0.9579 - val_loss: 0.4184 - val_acc: 0.9427\n",
      "Epoch 20/20\n",
      "20659/20659 [==============================] - 10s 481us/step - loss: 0.3408 - acc: 0.9586 - val_loss: 0.4170 - val_acc: 0.9458\n"
     ]
    }
   ],
   "source": [
    "history=model.fit(X_train,y_train,batch_size=32,validation_data=(X_test, y_test),epochs=20, callbacks=[tensorboard])\n"
   ]
  },
  {
   "cell_type": "code",
   "execution_count": 6,
   "metadata": {},
   "outputs": [
    {
     "name": "stdout",
     "output_type": "stream",
     "text": [
      "Saved trained model at D:/ML/nepali_cnn_model\\cnn.h5 \n"
     ]
    },
    {
     "data": {
      "text/plain": [
       "<matplotlib.legend.Legend at 0x24a3b8b1c88>"
      ]
     },
     "execution_count": 6,
     "metadata": {},
     "output_type": "execute_result"
    },
    {
     "data": {
      "image/png": "[encoded data removed]",
      "text/plain": [
       "<Figure size 432x288 with 2 Axes>"
      ]
     },
     "metadata": {},
     "output_type": "display_data"
    }
   ],
   "source": [
    "\n",
    "\n",
    "# saving the model\n",
    "save_dir = \"D:/ML/nepali_cnn_model\"\n",
    "model_name = 'cnn.h5'\n",
    "model_path = os.path.join(save_dir, model_name)\n",
    "model.save(model_path)\n",
    "print('Saved trained model at %s ' % model_path)\n",
    "\n",
    "\n",
    "# plotting the metrics\n",
    "fig = plt.figure()\n",
    "plt.subplot(2,1,1)\n",
    "plt.plot(history.history['acc'])\n",
    "plt.plot(history.history['val_acc'])\n",
    "plt.title('model accuracy')\n",
    "plt.ylabel('accuracy')\n",
    "plt.xlabel('epoch')\n",
    "\n",
    "plt.subplot(2,1,2)\n",
    "plt.plot(history.history['loss'])\n",
    "plt.plot(history.history['val_loss'])\n",
    "plt.title('model loss')\n",
    "plt.ylabel('loss')\n",
    "plt.xlabel('epoch')\n",
    "plt.legend(['train', 'test'], loc='upper right')\n",
    "\n",
    "plt.tight_layout()\n",
    "\n",
    "fig\n",
    "plt.legend(['train', 'test'], loc='lower right')\n"
   ]
  },
  {
   "cell_type": "code",
   "execution_count": null,
   "metadata": {},
   "outputs": [],
   "source": []
  }
 ],
 "metadata": {
  "kernelspec": {
   "display_name": "Python 3",
   "language": "python",
   "name": "python3"
  }
 },
 "nbformat": 4,
 "nbformat_minor": 2
}
