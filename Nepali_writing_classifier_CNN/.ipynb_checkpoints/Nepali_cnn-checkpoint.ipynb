{
 "cells": [
  {
   "cell_type": "code",
   "execution_count": 8,
   "metadata": {},
   "outputs": [
    {
     "name": "stdout",
     "output_type": "stream",
     "text": [
      "(25824, 36, 36, 1)\n"
     ]
    }
   ],
   "source": [
    "import tensorflow as tf\n",
    "import numpy as np\n",
    "import keras\n",
    "from keras import regularizers\n",
    "\n",
    "from tensorflow.keras.models import Sequential\n",
    "from tensorflow.keras.layers import Dense,Dropout,Activation,Flatten,Conv2D,MaxPooling2D\n",
    "from sklearn.model_selection import train_test_split\n",
    "\n",
    "import pickle\n",
    "import time\n",
    "import matplotlib.pyplot as plt\n",
    "\n",
    "from tensorflow.keras.callbacks import TensorBoard\n",
    "import os\n",
    "\n",
    "\n",
    "NAME=\"Nepali-cnn-model1-{}\".format(int(time.time()))\n",
    "tensorboard= TensorBoard(log_dir='logs/{}'.format(NAME),write_images=True)\n",
    "\n",
    "\n",
    "\n",
    "gpu_options=tf.GPUOptions(per_process_gpu_memory_fraction=0.5)\n",
    "sess=tf.Session(config=tf.ConfigProto(gpu_options=gpu_options))\n",
    "\n",
    "X=pickle.load(open(\"X_nepali.pickle\",\"rb\"))\n",
    "y=pickle.load(open(\"y_nepali.pickle\",\"rb\"))\n",
    "print(X.shape)\n",
    "\n"
   ]
  },
  {
   "cell_type": "code",
   "execution_count": 9,
   "metadata": {},
   "outputs": [
    {
     "name": "stdout",
     "output_type": "stream",
     "text": [
      "(36, 36, 1)\n",
      "Shape before one-hot encoding:  (25824,)\n",
      "Shape after one-hot encoding:  (25824, 58)\n"
     ]
    }
   ],
   "source": [
    " #normalization already done\n",
    "print(X.shape[1:])\n",
    "#X=np.array(X)\n",
    "#X_final=X.reshape(20,20)\n",
    "\n",
    "# one-hot encoding using keras' numpy-related utilities\n",
    "n_classes=58\n",
    "print(\"Shape before one-hot encoding: \", y.shape)\n",
    "Y = keras.utils.to_categorical(y, n_classes)\n",
    "#Y_test = keras.utils.to_categorical(y_test, n_classes)\n",
    "print(\"Shape after one-hot encoding: \", Y.shape)\n",
    "\n",
    "#X_train,X_test,y_train,y_test=train_test_split(X,Y,test_size=0.2)\n"
   ]
  },
  {
   "cell_type": "code",
   "execution_count": 16,
   "metadata": {},
   "outputs": [],
   "source": [
    "## to FIND THE BEST COMBINATION\n",
    "# dense_layers=[1,2]\n",
    "# layer_sizes=[64,128,164]\n",
    "# conv_layers=[2,3,4]\n",
    "\n",
    "# for dense_layer in dense_layers:\n",
    "#     for layer_size in layer_sizes:\n",
    "#         for conv_layer in conv_layers:\n",
    "#             NAME_1=\"{}-conv-{}-nodes-{}-dense-{}\".format(conv_layer,layer_size,dense_layer,int(time.time()))\n",
    "#             print(NAME_1)\n",
    "#             model= Sequential()\n",
    "#             #64 denotes the number of filters and (3,3) denotes the window size\n",
    "#             model.add(Conv2D(layer_size,(3,3),input_shape=X.shape[1:]))\n",
    "#             model.add(Activation('relu'))\n",
    "#             model.add(MaxPooling2D(pool_size=(2,2)))\n",
    "            \n",
    "#             # -1 because we have already added a defaul conv layer and input_shape should always be present at first\n",
    "#             for l in range(conv_layer-1):\n",
    "#                 model.add(Conv2D(layer_size,(3,3)))\n",
    "#                 model.add(Activation('relu'))\n",
    "#                 model.add(MaxPooling2D(pool_size=(2,2)))\n",
    "\n",
    "#             model.add(Flatten())\n",
    "#             for l in range(dense_layer-1):\n",
    "#                 model.add(Dense(layer_size, activation='relu',kernel_regularizer=regularizers.l2(0.003)))\n",
    " \n",
    "                \n",
    "                \n",
    "#             model.add(Dense(58))\n",
    "#             model.add(Activation('softmax'))\n",
    "            \n",
    "            \n",
    "#             model.compile(loss=\"categorical_crossentropy\",optimizer='adam',metrics=['accuracy'])\n",
    "            \n",
    "#             history=model.fit(X,Y,batch_size=30,validation_split=0.2,epochs=15, callbacks=[tensorboard])\n",
    "#             print(history)\n",
    "\n",
    "\n",
    "            \n",
    "            \n",
    "            \n",
    "# # define the grid search parameters\n",
    "# optimizer = ['SGD', 'RMSprop', 'Adagrad', 'Adadelta', 'Adam', 'Adamax', 'Nadam']\n",
    "# param_grid = dict(optimizer=optimizer)\n",
    "# grid = GridSearchCV(estimator=model, param_grid=param_grid, n_jobs=-1)\n",
    "# grid_result = grid.fit(X, Y)\n",
    "# # summarize results\n",
    "# print(\"Best: %f using %s\" % (grid_result.best_score_, grid_result.best_params_))\n",
    "# means = grid_result.cv_results_['mean_test_score']\n",
    "# stds = grid_result.cv_results_['std_test_score']\n",
    "# params = grid_result.cv_results_['params']\n",
    "# for mean, stdev, param in zip(means, stds, params):\n",
    "#     print(\"%f (%f) with: %r\" % (mean, stdev, param))\n",
    "\n",
    "layer_size=168\n",
    "\n",
    "model= Sequential()\n",
    "#64 denotes the number of filters and (3,3) denotes the window size\n",
    "model.add(Conv2D(layer_size,(3,3),input_shape=X.shape[1:]))\n",
    "model.add(Activation('relu'))\n",
    "model.add(MaxPooling2D(pool_size=(2,2)))\n",
    "\n",
    "model.add(Conv2D(layer_size,(3,3)))\n",
    "model.add(Activation('relu'))\n",
    "model.add(MaxPooling2D(pool_size=(2,2)))\n",
    "\n",
    "model.add(Flatten())\n",
    "model.add(Dense(layer_size, activation='relu',kernel_regularizer=regularizers.l2(0.003)))\n",
    "model.add(Dropout(0.1))\n",
    "\n",
    "\n",
    "model.add(Dense(58))\n",
    "model.add(Activation('softmax'))\n"
   ]
  },
  {
   "cell_type": "code",
   "execution_count": 17,
   "metadata": {},
   "outputs": [],
   "source": [
    "model.compile(loss=\"categorical_crossentropy\",optimizer='adam',metrics=['accuracy'])\n"
   ]
  },
  {
   "cell_type": "code",
   "execution_count": 18,
   "metadata": {},
   "outputs": [
    {
     "name": "stdout",
     "output_type": "stream",
     "text": [
      "Train on 20659 samples, validate on 5165 samples\n",
      "Epoch 1/10\n",
      "20659/20659 [==============================] - 20s 977us/step - loss: 1.3881 - acc: 0.7034 - val_loss: 0.8694 - val_acc: 0.8172\n",
      "Epoch 2/10\n",
      "20659/20659 [==============================] - 19s 929us/step - loss: 0.6405 - acc: 0.8861 - val_loss: 0.6663 - val_acc: 0.8800\n",
      "Epoch 3/10\n",
      "20659/20659 [==============================] - 19s 932us/step - loss: 0.5265 - acc: 0.9141 - val_loss: 0.6003 - val_acc: 0.8982\n",
      "Epoch 4/10\n",
      "20659/20659 [==============================] - 20s 984us/step - loss: 0.4600 - acc: 0.9300 - val_loss: 0.5841 - val_acc: 0.9015\n",
      "Epoch 5/10\n",
      "20659/20659 [==============================] - 20s 968us/step - loss: 0.4276 - acc: 0.9397 - val_loss: 0.5536 - val_acc: 0.9090\n",
      "Epoch 6/10\n",
      "20659/20659 [==============================] - 19s 943us/step - loss: 0.3971 - acc: 0.9470 - val_loss: 0.4986 - val_acc: 0.9239\n",
      "Epoch 7/10\n",
      "20659/20659 [==============================] - 20s 971us/step - loss: 0.3799 - acc: 0.9507 - val_loss: 0.4924 - val_acc: 0.9212\n",
      "Epoch 8/10\n",
      "20659/20659 [==============================] - 20s 991us/step - loss: 0.3561 - acc: 0.9566 - val_loss: 0.5023 - val_acc: 0.9239\n",
      "Epoch 9/10\n",
      "20659/20659 [==============================] - 20s 974us/step - loss: 0.3528 - acc: 0.9575 - val_loss: 0.4917 - val_acc: 0.9189\n",
      "Epoch 10/10\n",
      "20659/20659 [==============================] - 20s 990us/step - loss: 0.3354 - acc: 0.9583 - val_loss: 0.4765 - val_acc: 0.9282\n"
     ]
    }
   ],
   "source": [
    "history=model.fit(X,Y,batch_size=30,validation_split=0.2,epochs=10, callbacks=[tensorboard])\n"
   ]
  },
  {
   "cell_type": "code",
   "execution_count": 19,
   "metadata": {},
   "outputs": [
    {
     "name": "stdout",
     "output_type": "stream",
     "text": [
      "Saved trained model at D:/ML/nepali_cnn_model\\cnn.h5 \n"
     ]
    },
    {
     "data": {
      "text/plain": [
       "<matplotlib.legend.Legend at 0x2364366dba8>"
      ]
     },
     "execution_count": 19,
     "metadata": {},
     "output_type": "execute_result"
    },
    {
     "data": {
      "image/png": "[encoded data removed]",
      "text/plain": [
       "<Figure size 432x288 with 2 Axes>"
      ]
     },
     "metadata": {},
     "output_type": "display_data"
    }
   ],
   "source": [
    "# saving the model\n",
    "save_dir = \"D:/ML/nepali_cnn_model\"\n",
    "model_name = 'cnn.h5'\n",
    "model_path = os.path.join(save_dir, model_name)\n",
    "model.save(model_path)\n",
    "print('Saved trained model at %s ' % model_path)\n",
    "\n",
    "\n",
    "# plotting the metrics\n",
    "fig = plt.figure()\n",
    "plt.subplot(2,1,1)\n",
    "plt.plot(history.history['acc'])\n",
    "plt.plot(history.history['val_acc'])\n",
    "plt.title('model accuracy')\n",
    "plt.ylabel('accuracy')\n",
    "plt.xlabel('epoch')\n",
    "\n",
    "plt.subplot(2,1,2)\n",
    "plt.plot(history.history['loss'])\n",
    "plt.plot(history.history['val_loss'])\n",
    "plt.title('model loss')\n",
    "plt.ylabel('loss')\n",
    "plt.xlabel('epoch')\n",
    "plt.legend(['train', 'test'], loc='upper right')\n",
    "\n",
    "plt.tight_layout()\n",
    "\n",
    "fig\n",
    "plt.legend(['train', 'test'], loc='lower right')\n"
   ]
  },
  {
   "cell_type": "code",
   "execution_count": 16,
   "metadata": {},
   "outputs": [
    {
     "name": "stdout",
     "output_type": "stream",
     "text": [
      "(25824, 36, 36, 1)\n"
     ]
    }
   ],
   "source": [
    "print(X.shape)"
   ]
  },
  {
   "cell_type": "code",
   "execution_count": 7,
   "metadata": {},
   "outputs": [
    {
     "name": "stdout",
     "output_type": "stream",
     "text": [
      "[[[1.        ]\n",
      "  [1.        ]\n",
      "  [0.99607843]\n",
      "  ...\n",
      "  [1.        ]\n",
      "  [1.        ]\n",
      "  [0.98823529]]\n",
      "\n",
      " [[1.        ]\n",
      "  [1.        ]\n",
      "  [0.99607843]\n",
      "  ...\n",
      "  [1.        ]\n",
      "  [1.        ]\n",
      "  [0.97647059]]\n",
      "\n",
      " [[1.        ]\n",
      "  [1.        ]\n",
      "  [0.99607843]\n",
      "  ...\n",
      "  [1.        ]\n",
      "  [0.99607843]\n",
      "  [0.98823529]]\n",
      "\n",
      " ...\n",
      "\n",
      " [[0.90588235]\n",
      "  [1.        ]\n",
      "  [0.97647059]\n",
      "  ...\n",
      "  [1.        ]\n",
      "  [1.        ]\n",
      "  [1.        ]]\n",
      "\n",
      " [[0.99215686]\n",
      "  [0.95294118]\n",
      "  [0.99607843]\n",
      "  ...\n",
      "  [1.        ]\n",
      "  [1.        ]\n",
      "  [1.        ]]\n",
      "\n",
      " [[0.96862745]\n",
      "  [0.96470588]\n",
      "  [1.        ]\n",
      "  ...\n",
      "  [1.        ]\n",
      "  [1.        ]\n",
      "  [1.        ]]]\n"
     ]
    }
   ],
   "source": [
    "print(X[1])"
   ]
  },
  {
   "cell_type": "code",
   "execution_count": 8,
   "metadata": {},
   "outputs": [],
   "source": [
    "temp=np.array(X[1]).reshape(-1,36,36,1)"
   ]
  },
  {
   "cell_type": "code",
   "execution_count": 9,
   "metadata": {},
   "outputs": [
    {
     "name": "stdout",
     "output_type": "stream",
     "text": [
      "[[[[1.        ]\n",
      "   [1.        ]\n",
      "   [0.99607843]\n",
      "   ...\n",
      "   [1.        ]\n",
      "   [1.        ]\n",
      "   [0.98823529]]\n",
      "\n",
      "  [[1.        ]\n",
      "   [1.        ]\n",
      "   [0.99607843]\n",
      "   ...\n",
      "   [1.        ]\n",
      "   [1.        ]\n",
      "   [0.97647059]]\n",
      "\n",
      "  [[1.        ]\n",
      "   [1.        ]\n",
      "   [0.99607843]\n",
      "   ...\n",
      "   [1.        ]\n",
      "   [0.99607843]\n",
      "   [0.98823529]]\n",
      "\n",
      "  ...\n",
      "\n",
      "  [[0.90588235]\n",
      "   [1.        ]\n",
      "   [0.97647059]\n",
      "   ...\n",
      "   [1.        ]\n",
      "   [1.        ]\n",
      "   [1.        ]]\n",
      "\n",
      "  [[0.99215686]\n",
      "   [0.95294118]\n",
      "   [0.99607843]\n",
      "   ...\n",
      "   [1.        ]\n",
      "   [1.        ]\n",
      "   [1.        ]]\n",
      "\n",
      "  [[0.96862745]\n",
      "   [0.96470588]\n",
      "   [1.        ]\n",
      "   ...\n",
      "   [1.        ]\n",
      "   [1.        ]\n",
      "   [1.        ]]]]\n"
     ]
    }
   ],
   "source": [
    "print(temp) "
   ]
  },
  {
   "cell_type": "code",
   "execution_count": null,
   "metadata": {},
   "outputs": [],
   "source": []
  }
 ],
 "metadata": {
  "kernelspec": {
   "display_name": "Python 3",
   "language": "python",
   "name": "python3"
  },
  "language_info": {
   "codemirror_mode": {
    "name": "ipython",
    "version": 3
   },
   "file_extension": ".py",
   "mimetype": "text/x-python",
   "name": "python",
   "nbconvert_exporter": "python",
   "pygments_lexer": "ipython3",
   "version": "3.6.5"
  }
 },
 "nbformat": 4,
 "nbformat_minor": 2
}
