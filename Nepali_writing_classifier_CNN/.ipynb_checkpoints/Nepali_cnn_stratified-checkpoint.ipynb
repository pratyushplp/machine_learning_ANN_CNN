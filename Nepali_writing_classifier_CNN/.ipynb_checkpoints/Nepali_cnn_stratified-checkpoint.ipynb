{
 "cells": [
  {
   "cell_type": "code",
   "execution_count": 1,
   "metadata": {},
   "outputs": [
    {
     "name": "stderr",
     "output_type": "stream",
     "text": [
      "D:\\anaconda3\\lib\\site-packages\\h5py\\__init__.py:36: FutureWarning: Conversion of the second argument of issubdtype from `float` to `np.floating` is deprecated. In future, it will be treated as `np.float64 == np.dtype(float).type`.\n",
      "  from ._conv import register_converters as _register_converters\n",
      "Using TensorFlow backend.\n"
     ]
    },
    {
     "name": "stdout",
     "output_type": "stream",
     "text": [
      "(25824, 36, 36, 1)\n"
     ]
    }
   ],
   "source": [
    "import tensorflow as tf\n",
    "import numpy as np\n",
    "import keras\n",
    "from keras import regularizers\n",
    "\n",
    "from tensorflow.keras.models import Sequential\n",
    "from tensorflow.keras.layers import Dense,Dropout,Activation,Flatten,Conv2D,MaxPooling2D\n",
    "from sklearn.model_selection import train_test_split\n",
    "\n",
    "import pickle\n",
    "import time\n",
    "import matplotlib.pyplot as plt\n",
    "\n",
    "from tensorflow.keras.callbacks import TensorBoard\n",
    "import os\n",
    "\n",
    "#must for gpu\n",
    "os.environ[\"CUDA_VISIBLE_DEVICES\"] = '0' #use GPU with ID=0\n",
    "config = tf.ConfigProto()\n",
    "config.gpu_options.per_process_gpu_memory_fraction = 0.5 # maximun alloc gpu50% of MEM\n",
    "config.gpu_options.allow_growth = True #allocate dynamically\n",
    "sess = tf.Session(config = config)\n",
    "\n",
    "NAME=\"Nepali-cnn-model1-{}\".format(int(time.time()))\n",
    "tensorboard= TensorBoard(log_dir='logs/{}'.format(NAME),write_images=True)\n",
    "\n",
    "\n",
    "\n",
    "X=pickle.load(open(\"X_nepali.pickle\",\"rb\"))\n",
    "y=pickle.load(open(\"y_nepali.pickle\",\"rb\"))\n",
    "print(X.shape)\n",
    "\n"
   ]
  },
  {
   "cell_type": "code",
   "execution_count": 2,
   "metadata": {},
   "outputs": [
    {
     "name": "stdout",
     "output_type": "stream",
     "text": [
      "(36, 36, 1)\n",
      "Shape before one-hot encoding:  (25824,)\n",
      "Shape after one-hot encoding:  (25824, 58)\n"
     ]
    }
   ],
   "source": [
    " #normalization already done\n",
    "print(X.shape[1:])\n",
    "#X=np.array(X)\n",
    "#X_final=X.reshape(20,20)\n",
    "\n",
    "# one-hot encoding using keras' numpy-related utilities\n",
    "n_classes=58\n",
    "print(\"Shape before one-hot encoding: \", y.shape)\n",
    "Y = keras.utils.to_categorical(y, n_classes)\n",
    "#Y_test = keras.utils.to_categorical(y_test, n_classes)\n",
    "print(\"Shape after one-hot encoding: \", Y.shape)\n",
    "\n",
    "X_train,X_test,y_train,y_test=train_test_split(X,Y,stratify=Y,test_size=0.25)\n"
   ]
  },
  {
   "cell_type": "code",
   "execution_count": 3,
   "metadata": {},
   "outputs": [],
   "source": [
    "## to FIND THE BEST COMBINATION\n",
    "# dense_layers=[1,2]\n",
    "# layer_sizes=[64,128,164]\n",
    "# conv_layers=[2,3,4]\n",
    "\n",
    "# for dense_layer in dense_layers:\n",
    "#     for layer_size in layer_sizes:\n",
    "#         for conv_layer in conv_layers:\n",
    "#             NAME_1=\"{}-conv-{}-nodes-{}-dense-{}\".format(conv_layer,layer_size,dense_layer,int(time.time()))\n",
    "#             print(NAME_1)\n",
    "#             model= Sequential()\n",
    "#             #64 denotes the number of filters and (3,3) denotes the window size\n",
    "#             model.add(Conv2D(layer_size,(3,3),input_shape=X.shape[1:]))\n",
    "#             model.add(Activation('relu'))\n",
    "#             model.add(MaxPooling2D(pool_size=(2,2)))\n",
    "            \n",
    "#             # -1 because we have already added a defaul conv layer and input_shape should always be present at first\n",
    "#             for l in range(conv_layer-1):\n",
    "#                 model.add(Conv2D(layer_size,(3,3)))\n",
    "#                 model.add(Activation('relu'))\n",
    "#                 model.add(MaxPooling2D(pool_size=(2,2)))\n",
    "\n",
    "#             model.add(Flatten())\n",
    "#             for l in range(dense_layer-1):\n",
    "#                 model.add(Dense(layer_size, activation='relu',kernel_regularizer=regularizers.l2(0.003)))\n",
    " \n",
    "                \n",
    "                \n",
    "#             model.add(Dense(58))\n",
    "#             model.add(Activation('softmax'))\n",
    "            \n",
    "            \n",
    "#             model.compile(loss=\"categorical_crossentropy\",optimizer='adam',metrics=['accuracy'])\n",
    "            \n",
    "#             history=model.fit(X,Y,batch_size=30,validation_split=0.2,epochs=15, callbacks=[tensorboard])\n",
    "#             print(history)\n",
    "\n",
    "\n",
    "            \n",
    "            \n",
    "            \n",
    "# # define the grid search parameters\n",
    "# optimizer = ['SGD', 'RMSprop', 'Adagrad', 'Adadelta', 'Adam', 'Adamax', 'Nadam']\n",
    "# param_grid = dict(optimizer=optimizer)\n",
    "# grid = GridSearchCV(estimator=model, param_grid=param_grid, n_jobs=-1)\n",
    "# grid_result = grid.fit(X, Y)\n",
    "# # summarize results\n",
    "# print(\"Best: %f using %s\" % (grid_result.best_score_, grid_result.best_params_))\n",
    "# means = grid_result.cv_results_['mean_test_score']\n",
    "# stds = grid_result.cv_results_['std_test_score']\n",
    "# params = grid_result.cv_results_['params']\n",
    "# for mean, stdev, param in zip(means, stds, params):\n",
    "#     print(\"%f (%f) with: %r\" % (mean, stdev, param))\n",
    "\n",
    "layer_size=168\n",
    "\n",
    "model= Sequential()\n",
    "#64 denotes the number of filters and (3,3) denotes the window size\n",
    "model.add(Conv2D(layer_size,(3,3),input_shape=X_test.shape[1:]))\n",
    "model.add(Activation('relu'))\n",
    "model.add(MaxPooling2D(pool_size=(2,2)))\n",
    "\n",
    "model.add(Conv2D(layer_size,(3,3)))\n",
    "model.add(Activation('relu'))\n",
    "model.add(MaxPooling2D(pool_size=(2,2)))\n",
    "\n",
    "model.add(Flatten())\n",
    "model.add(Dense(layer_size, activation='relu',kernel_regularizer=regularizers.l2(0.003)))\n",
    "model.add(Dropout(0.15))\n",
    "\n",
    "\n",
    "model.add(Dense(58))\n",
    "model.add(Activation('softmax'))\n"
   ]
  },
  {
   "cell_type": "code",
   "execution_count": 4,
   "metadata": {},
   "outputs": [],
   "source": [
    "model.compile(loss=\"categorical_crossentropy\",optimizer='adam',metrics=['accuracy'])\n"
   ]
  },
  {
   "cell_type": "code",
   "execution_count": 5,
   "metadata": {},
   "outputs": [
    {
     "name": "stdout",
     "output_type": "stream",
     "text": [
      "Epoch 1/20\n",
      "19368/19368 [==============================] - 18s 952us/step - loss: 1.5442 - acc: 0.6632\n",
      "Epoch 2/20\n",
      "19368/19368 [==============================] - 16s 832us/step - loss: 0.7375 - acc: 0.8634\n",
      "Epoch 3/20\n",
      "19368/19368 [==============================] - 16s 852us/step - loss: 0.6160 - acc: 0.8970\n",
      "Epoch 4/20\n",
      "19368/19368 [==============================] - 16s 833us/step - loss: 0.5325 - acc: 0.9197\n",
      "Epoch 5/20\n",
      "19368/19368 [==============================] - 16s 837us/step - loss: 0.4969 - acc: 0.9268\n",
      "Epoch 6/20\n",
      "19368/19368 [==============================] - 16s 839us/step - loss: 0.4486 - acc: 0.9405\n",
      "Epoch 7/20\n",
      "19368/19368 [==============================] - 16s 839us/step - loss: 0.4379 - acc: 0.9418\n",
      "Epoch 8/20\n",
      "19368/19368 [==============================] - 16s 841us/step - loss: 0.4135 - acc: 0.9465\n",
      "Epoch 9/20\n",
      "19368/19368 [==============================] - 16s 840us/step - loss: 0.4104 - acc: 0.9501\n",
      "Epoch 10/20\n",
      "19368/19368 [==============================] - 16s 843us/step - loss: 0.3911 - acc: 0.9524\n",
      "Epoch 11/20\n",
      "19368/19368 [==============================] - 16s 843us/step - loss: 0.3775 - acc: 0.9555\n",
      "Epoch 12/20\n",
      "19368/19368 [==============================] - 16s 850us/step - loss: 0.3731 - acc: 0.9579\n",
      "Epoch 13/20\n",
      "19368/19368 [==============================] - 16s 850us/step - loss: 0.3744 - acc: 0.9550\n",
      "Epoch 14/20\n",
      "19368/19368 [==============================] - 16s 831us/step - loss: 0.3560 - acc: 0.9613\n",
      "Epoch 15/20\n",
      "19368/19368 [==============================] - 16s 843us/step - loss: 0.3454 - acc: 0.9612\n",
      "Epoch 16/20\n",
      "19368/19368 [==============================] - 18s 906us/step - loss: 0.3517 - acc: 0.9613\n",
      "Epoch 17/20\n",
      "19368/19368 [==============================] - 17s 853us/step - loss: 0.3524 - acc: 0.9626\n",
      "Epoch 18/20\n",
      "19368/19368 [==============================] - 16s 825us/step - loss: 0.3473 - acc: 0.9640\n",
      "Epoch 19/20\n",
      "19368/19368 [==============================] - 16s 820us/step - loss: 0.3395 - acc: 0.9641\n",
      "Epoch 20/20\n",
      "19368/19368 [==============================] - 17s 852us/step - loss: 0.3403 - acc: 0.9658\n",
      "6456/6456 [==============================] - 2s 292us/step\n"
     ]
    }
   ],
   "source": [
    "history=model.fit(X_train,y_train,batch_size=32,epochs=20,callbacks=[tensorboard])\n",
    "score = model.evaluate(X_test, y_test, batch_size= 32 ,verbose=1)\n"
   ]
  },
  {
   "cell_type": "code",
   "execution_count": 8,
   "metadata": {},
   "outputs": [
    {
     "name": "stdout",
     "output_type": "stream",
     "text": [
      "The value of test loss and test accuracy are [0.3766670416131191, 0.9623605948693986]\n",
      "Saved trained model at D:/ML/nepali_cnn_model\\cnn_stratified.h5 \n"
     ]
    },
    {
     "data": {
      "text/plain": [
       "<matplotlib.legend.Legend at 0x28dc18eeda0>"
      ]
     },
     "execution_count": 8,
     "metadata": {},
     "output_type": "execute_result"
    },
    {
     "data": {
      "image/png": "[encoded data removed]",
      "text/plain": [
       "<Figure size 432x288 with 2 Axes>"
      ]
     },
     "metadata": {},
     "output_type": "display_data"
    }
   ],
   "source": [
    "print(\"The value of test loss and test accuracy are\",score)\n",
    "\n",
    "# saving the model\n",
    "save_dir = \"D:/ML/nepali_cnn_model\"\n",
    "model_name = 'cnn_stratified.h5'\n",
    "model_path = os.path.join(save_dir, model_name)\n",
    "model.save(model_path)\n",
    "print('Saved trained model at %s ' % model_path)\n",
    "\n",
    "\n",
    "# plotting the metrics\n",
    "fig = plt.figure()\n",
    "plt.subplot(2,1,1)\n",
    "plt.plot(history.history['acc'])\n",
    "#plt.plot(score.history['val_acc'])\n",
    "plt.title('model accuracy')\n",
    "plt.ylabel('accuracy')\n",
    "plt.xlabel('epoch')\n",
    "\n",
    "plt.subplot(2,1,2)\n",
    "plt.plot(history.history['loss'])\n",
    "#plt.plot(score.history['val_loss'])\n",
    "plt.title('model loss')\n",
    "plt.ylabel('loss')\n",
    "plt.xlabel('epoch')\n",
    "plt.legend(['train', 'test'], loc='upper right')\n",
    "\n",
    "plt.tight_layout()\n",
    "\n",
    "fig\n",
    "plt.legend(['train', 'test'], loc='lower right')\n"
   ]
  },
  {
   "cell_type": "code",
   "execution_count": 16,
   "metadata": {},
   "outputs": [
    {
     "name": "stdout",
     "output_type": "stream",
     "text": [
      "(25824, 36, 36, 1)\n"
     ]
    }
   ],
   "source": [
    "print(X.shape)"
   ]
  },
  {
   "cell_type": "code",
   "execution_count": 7,
   "metadata": {},
   "outputs": [
    {
     "name": "stdout",
     "output_type": "stream",
     "text": [
      "[[[1.        ]\n",
      "  [1.        ]\n",
      "  [0.99607843]\n",
      "  ...\n",
      "  [1.        ]\n",
      "  [1.        ]\n",
      "  [0.98823529]]\n",
      "\n",
      " [[1.        ]\n",
      "  [1.        ]\n",
      "  [0.99607843]\n",
      "  ...\n",
      "  [1.        ]\n",
      "  [1.        ]\n",
      "  [0.97647059]]\n",
      "\n",
      " [[1.        ]\n",
      "  [1.        ]\n",
      "  [0.99607843]\n",
      "  ...\n",
      "  [1.        ]\n",
      "  [0.99607843]\n",
      "  [0.98823529]]\n",
      "\n",
      " ...\n",
      "\n",
      " [[0.90588235]\n",
      "  [1.        ]\n",
      "  [0.97647059]\n",
      "  ...\n",
      "  [1.        ]\n",
      "  [1.        ]\n",
      "  [1.        ]]\n",
      "\n",
      " [[0.99215686]\n",
      "  [0.95294118]\n",
      "  [0.99607843]\n",
      "  ...\n",
      "  [1.        ]\n",
      "  [1.        ]\n",
      "  [1.        ]]\n",
      "\n",
      " [[0.96862745]\n",
      "  [0.96470588]\n",
      "  [1.        ]\n",
      "  ...\n",
      "  [1.        ]\n",
      "  [1.        ]\n",
      "  [1.        ]]]\n"
     ]
    }
   ],
   "source": [
    "print(X[1])"
   ]
  },
  {
   "cell_type": "code",
   "execution_count": 8,
   "metadata": {},
   "outputs": [],
   "source": [
    "temp=np.array(X[1]).reshape(-1,36,36,1)"
   ]
  },
  {
   "cell_type": "code",
   "execution_count": 9,
   "metadata": {},
   "outputs": [
    {
     "name": "stdout",
     "output_type": "stream",
     "text": [
      "[[[[1.        ]\n",
      "   [1.        ]\n",
      "   [0.99607843]\n",
      "   ...\n",
      "   [1.        ]\n",
      "   [1.        ]\n",
      "   [0.98823529]]\n",
      "\n",
      "  [[1.        ]\n",
      "   [1.        ]\n",
      "   [0.99607843]\n",
      "   ...\n",
      "   [1.        ]\n",
      "   [1.        ]\n",
      "   [0.97647059]]\n",
      "\n",
      "  [[1.        ]\n",
      "   [1.        ]\n",
      "   [0.99607843]\n",
      "   ...\n",
      "   [1.        ]\n",
      "   [0.99607843]\n",
      "   [0.98823529]]\n",
      "\n",
      "  ...\n",
      "\n",
      "  [[0.90588235]\n",
      "   [1.        ]\n",
      "   [0.97647059]\n",
      "   ...\n",
      "   [1.        ]\n",
      "   [1.        ]\n",
      "   [1.        ]]\n",
      "\n",
      "  [[0.99215686]\n",
      "   [0.95294118]\n",
      "   [0.99607843]\n",
      "   ...\n",
      "   [1.        ]\n",
      "   [1.        ]\n",
      "   [1.        ]]\n",
      "\n",
      "  [[0.96862745]\n",
      "   [0.96470588]\n",
      "   [1.        ]\n",
      "   ...\n",
      "   [1.        ]\n",
      "   [1.        ]\n",
      "   [1.        ]]]]\n"
     ]
    }
   ],
   "source": [
    "print(temp) "
   ]
  },
  {
   "cell_type": "code",
   "execution_count": null,
   "metadata": {},
   "outputs": [],
   "source": []
  }
 ],
 "metadata": {
  "kernelspec": {
   "display_name": "Python 3",
   "language": "python",
   "name": "python3"
  },
  "language_info": {
   "codemirror_mode": {
    "name": "ipython",
    "version": 3
   },
   "file_extension": ".py",
   "mimetype": "text/x-python",
   "name": "python",
   "nbconvert_exporter": "python",
   "pygments_lexer": "ipython3",
   "version": "3.6.5"
  }
 },
 "nbformat": 4,
 "nbformat_minor": 2
}
