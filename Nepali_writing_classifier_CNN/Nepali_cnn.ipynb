{
 "cells": [
  {
   "cell_type": "code",
   "execution_count": 14,
   "metadata": {},
   "outputs": [
    {
     "name": "stdout",
     "output_type": "stream",
     "text": [
      "(25824, 36, 36, 1)\n"
     ]
    }
   ],
   "source": [
    "import tensorflow as tf\n",
    "import numpy as np\n",
    "import keras\n",
    "from keras import regularizers\n",
    "\n",
    "from tensorflow.keras.models import Sequential\n",
    "from tensorflow.keras.layers import Dense,Dropout,Activation,Flatten,Conv2D,MaxPooling2D\n",
    "from sklearn.model_selection import train_test_split\n",
    "\n",
    "import pickle\n",
    "import time\n",
    "import matplotlib.pyplot as plt\n",
    "\n",
    "from tensorflow.keras.callbacks import TensorBoard\n",
    "import os\n",
    "os.environ[\"CUDA_VISIBLE_DEVICES\"] = '0' #use GPU with ID=0\n",
    "config = tf.ConfigProto()\n",
    "config.gpu_options.per_process_gpu_memory_fraction = 0.5 # maximun alloc gpu50% of MEM\n",
    "config.gpu_options.allow_growth = True #allocate dynamically\n",
    "sess = tf.Session(config = config)\n",
    "\n",
    "NAME=\"Nepali-cnn-model1-{}\".format(int(time.time()))\n",
    "tensorboard= TensorBoard(log_dir='logs/{}'.format(NAME),write_images=True)\n",
    "\n",
    "\n",
    "\n",
    "\n",
    "\n",
    "X=pickle.load(open(\"X_nepali.pickle\",\"rb\"))\n",
    "y=pickle.load(open(\"y_nepali.pickle\",\"rb\"))\n",
    "print(X.shape)\n",
    "\n"
   ]
  },
  {
   "cell_type": "code",
   "execution_count": 15,
   "metadata": {},
   "outputs": [
    {
     "name": "stdout",
     "output_type": "stream",
     "text": [
      "(36, 36, 1)\n",
      "Shape before one-hot encoding:  (25824,)\n",
      "Shape after one-hot encoding:  (25824, 58)\n"
     ]
    }
   ],
   "source": [
    " #normalization already done\n",
    "print(X.shape[1:])\n",
    "#X=np.array(X)\n",
    "#X_final=X.reshape(20,20)\n",
    "\n",
    "# one-hot encoding using keras' numpy-related utilities\n",
    "n_classes=58\n",
    "print(\"Shape before one-hot encoding: \", y.shape)\n",
    "Y = keras.utils.to_categorical(y, n_classes)\n",
    "#Y_test = keras.utils.to_categorical(y_test, n_classes)\n",
    "print(\"Shape after one-hot encoding: \", Y.shape)\n",
    "X_train,X_test,y_train,y_test=train_test_split(X,Y,stratify=Y,test_size=0.25)\n"
   ]
  },
  {
   "cell_type": "code",
   "execution_count": 16,
   "metadata": {},
   "outputs": [],
   "source": [
    "layer_size=82\n",
    "\n",
    "model= Sequential()\n",
    "#64 denotes the number of filters and (3,3) denotes the window size\n",
    "model.add(Conv2D(layer_size,(3,3),input_shape=X.shape[1:]))\n",
    "model.add(Activation('relu'))\n",
    "model.add(MaxPooling2D(pool_size=(2,2)))\n",
    "\n",
    "model.add(Conv2D(layer_size,(5,5)))\n",
    "model.add(Activation('relu'))\n",
    "model.add(MaxPooling2D(pool_size=(3,3)))\n",
    "\n",
    "model.add(Flatten())\n",
    "model.add(Dense(160, activation='relu',kernel_regularizer=regularizers.l2(0.003)))\n",
    "model.add(Dropout(0.2))\n",
    "\n",
    "\n",
    "model.add(Dense(58))\n",
    "model.add(Activation('softmax'))"
   ]
  },
  {
   "cell_type": "code",
   "execution_count": 17,
   "metadata": {},
   "outputs": [],
   "source": [
    "model.compile(loss=\"categorical_crossentropy\",optimizer='adam',metrics=['accuracy'])\n"
   ]
  },
  {
   "cell_type": "code",
   "execution_count": 18,
   "metadata": {},
   "outputs": [
    {
     "name": "stdout",
     "output_type": "stream",
     "text": [
      "Train on 19368 samples, validate on 6456 samples\n",
      "Epoch 1/20\n",
      "19368/19368 [==============================] - 11s 551us/step - loss: 1.7292 - acc: 0.5973 - val_loss: 0.6477 - val_acc: 0.8597\n",
      "Epoch 2/20\n",
      "19368/19368 [==============================] - 10s 528us/step - loss: 0.6715 - acc: 0.8515 - val_loss: 0.4783 - val_acc: 0.9136\n",
      "Epoch 3/20\n",
      "19368/19368 [==============================] - 10s 520us/step - loss: 0.5101 - acc: 0.8944 - val_loss: 0.4102 - val_acc: 0.9305\n",
      "Epoch 4/20\n",
      "19368/19368 [==============================] - 10s 525us/step - loss: 0.4377 - acc: 0.9186 - val_loss: 0.3720 - val_acc: 0.9442\n",
      "Epoch 5/20\n",
      "19368/19368 [==============================] - 10s 528us/step - loss: 0.3982 - acc: 0.9283 - val_loss: 0.3433 - val_acc: 0.9503\n",
      "Epoch 6/20\n",
      "19368/19368 [==============================] - 10s 521us/step - loss: 0.3625 - acc: 0.9376 - val_loss: 0.3612 - val_acc: 0.9463\n",
      "Epoch 7/20\n",
      "19368/19368 [==============================] - 10s 526us/step - loss: 0.3486 - acc: 0.9409 - val_loss: 0.3700 - val_acc: 0.9404\n",
      "Epoch 8/20\n",
      "19368/19368 [==============================] - 10s 530us/step - loss: 0.3244 - acc: 0.9492 - val_loss: 0.3065 - val_acc: 0.9619\n",
      "Epoch 9/20\n",
      "19368/19368 [==============================] - 10s 520us/step - loss: 0.3162 - acc: 0.9503 - val_loss: 0.3227 - val_acc: 0.9540\n",
      "Epoch 10/20\n",
      "19368/19368 [==============================] - 10s 526us/step - loss: 0.3018 - acc: 0.9563 - val_loss: 0.3112 - val_acc: 0.9602\n",
      "Epoch 11/20\n",
      "19368/19368 [==============================] - 10s 524us/step - loss: 0.2988 - acc: 0.9566 - val_loss: 0.3211 - val_acc: 0.9555\n",
      "Epoch 12/20\n",
      "19368/19368 [==============================] - 10s 527us/step - loss: 0.2865 - acc: 0.9595 - val_loss: 0.2945 - val_acc: 0.9630\n",
      "Epoch 13/20\n",
      "19368/19368 [==============================] - 10s 526us/step - loss: 0.2851 - acc: 0.9576 - val_loss: 0.3207 - val_acc: 0.9583\n",
      "Epoch 14/20\n",
      "19368/19368 [==============================] - 10s 525us/step - loss: 0.2856 - acc: 0.9607 - val_loss: 0.2972 - val_acc: 0.9619\n",
      "Epoch 15/20\n",
      "19368/19368 [==============================] - 10s 527us/step - loss: 0.2751 - acc: 0.9612 - val_loss: 0.3049 - val_acc: 0.9616\n",
      "Epoch 16/20\n",
      "19368/19368 [==============================] - 10s 526us/step - loss: 0.2649 - acc: 0.9651 - val_loss: 0.2968 - val_acc: 0.9630\n",
      "Epoch 17/20\n",
      "19368/19368 [==============================] - 10s 523us/step - loss: 0.2664 - acc: 0.9640 - val_loss: 0.2940 - val_acc: 0.9627\n",
      "Epoch 18/20\n",
      "19368/19368 [==============================] - 10s 527us/step - loss: 0.2628 - acc: 0.9652 - val_loss: 0.3072 - val_acc: 0.9616\n",
      "Epoch 19/20\n",
      "19368/19368 [==============================] - 10s 528us/step - loss: 0.2745 - acc: 0.9609 - val_loss: 0.2972 - val_acc: 0.9636\n",
      "Epoch 20/20\n",
      "19368/19368 [==============================] - 10s 520us/step - loss: 0.2496 - acc: 0.9687 - val_loss: 0.2846 - val_acc: 0.9648\n"
     ]
    }
   ],
   "source": [
    "history=model.fit(X_train,y_train,batch_size=32,validation_data=(X_test, y_test),epochs=20, callbacks=[tensorboard])\n"
   ]
  },
  {
   "cell_type": "code",
   "execution_count": 19,
   "metadata": {},
   "outputs": [
    {
     "name": "stdout",
     "output_type": "stream",
     "text": [
      "Saved trained model at D:/ML/nepali_cnn_model\\cnn.h5 \n"
     ]
    },
    {
     "data": {
      "text/plain": [
       "<matplotlib.legend.Legend at 0x20c963b61d0>"
      ]
     },
     "execution_count": 19,
     "metadata": {},
     "output_type": "execute_result"
    },
    {
     "data": {
      "image/png": "[encoded data removed]",
      "text/plain": [
       "<Figure size 432x288 with 2 Axes>"
      ]
     },
     "metadata": {},
     "output_type": "display_data"
    }
   ],
   "source": [
    "\n",
    "\n",
    "# saving the model\n",
    "save_dir = \"D:/ML/nepali_cnn_model\"\n",
    "model_name = 'cnn.h5'\n",
    "model_path = os.path.join(save_dir, model_name)\n",
    "model.save(model_path)\n",
    "print('Saved trained model at %s ' % model_path)\n",
    "\n",
    "\n",
    "# plotting the metrics\n",
    "fig = plt.figure()\n",
    "plt.subplot(2,1,1)\n",
    "plt.plot(history.history['acc'])\n",
    "plt.plot(history.history['val_acc'])\n",
    "plt.title('model accuracy')\n",
    "plt.ylabel('accuracy')\n",
    "plt.xlabel('epoch')\n",
    "\n",
    "plt.subplot(2,1,2)\n",
    "plt.plot(history.history['loss'])\n",
    "plt.plot(history.history['val_loss'])\n",
    "plt.title('model loss')\n",
    "plt.ylabel('loss')\n",
    "plt.xlabel('epoch')\n",
    "plt.legend(['train', 'test'], loc='upper right')\n",
    "\n",
    "plt.tight_layout()\n",
    "\n",
    "fig\n",
    "plt.legend(['train', 'test'], loc='lower right')\n"
   ]
  },
  {
   "cell_type": "code",
   "execution_count": null,
   "metadata": {},
   "outputs": [],
   "source": []
  }
 ],
 "metadata": {
  "kernelspec": {
   "display_name": "Python 3",
   "language": "python",
   "name": "python3"
  }
 },
 "nbformat": 4,
 "nbformat_minor": 2
}
