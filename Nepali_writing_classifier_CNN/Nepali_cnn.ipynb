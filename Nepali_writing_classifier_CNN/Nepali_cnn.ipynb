{
 "cells": [
  {
   "cell_type": "code",
   "execution_count": 1,
   "metadata": {},
   "outputs": [
    {
     "name": "stderr",
     "output_type": "stream",
     "text": [
      "D:\\anaconda3\\lib\\site-packages\\h5py\\__init__.py:36: FutureWarning: Conversion of the second argument of issubdtype from `float` to `np.floating` is deprecated. In future, it will be treated as `np.float64 == np.dtype(float).type`.\n",
      "  from ._conv import register_converters as _register_converters\n",
      "Using TensorFlow backend.\n"
     ]
    },
    {
     "name": "stdout",
     "output_type": "stream",
     "text": [
      "(25824, 36, 36, 1)\n"
     ]
    }
   ],
   "source": [
    "import tensorflow as tf\n",
    "import numpy as np\n",
    "import keras\n",
    "from keras import regularizers\n",
    "\n",
    "from tensorflow.keras.models import Sequential\n",
    "from tensorflow.keras.layers import Dense,Dropout,Activation,Flatten,Conv2D,MaxPooling2D\n",
    "from sklearn.model_selection import train_test_split\n",
    "\n",
    "import pickle\n",
    "import time\n",
    "import matplotlib.pyplot as plt\n",
    "\n",
    "from tensorflow.keras.callbacks import TensorBoard\n",
    "import os\n",
    "\n",
    "\n",
    "NAME=\"Nepali-cnn-model1-{}\".format(int(time.time()))\n",
    "tensorboard= TensorBoard(log_dir='logs/{}'.format(NAME),write_images=True)\n",
    "\n",
    "\n",
    "\n",
    "gpu_options=tf.GPUOptions(per_process_gpu_memory_fraction=0.5)\n",
    "sess=tf.Session(config=tf.ConfigProto(gpu_options=gpu_options))\n",
    "\n",
    "X=pickle.load(open(\"X_nepali.pickle\",\"rb\"))\n",
    "y=pickle.load(open(\"y_nepali.pickle\",\"rb\"))\n",
    "print(X.shape)\n",
    "\n"
   ]
  },
  {
   "cell_type": "code",
   "execution_count": 2,
   "metadata": {},
   "outputs": [
    {
     "name": "stdout",
     "output_type": "stream",
     "text": [
      "(36, 36, 1)\n",
      "Shape before one-hot encoding:  (25824,)\n",
      "Shape after one-hot encoding:  (25824, 58)\n"
     ]
    }
   ],
   "source": [
    " #normalization already done\n",
    "print(X.shape[1:])\n",
    "#X=np.array(X)\n",
    "#X_final=X.reshape(20,20)\n",
    "\n",
    "# one-hot encoding using keras' numpy-related utilities\n",
    "n_classes=58\n",
    "print(\"Shape before one-hot encoding: \", y.shape)\n",
    "Y = keras.utils.to_categorical(y, n_classes)\n",
    "#Y_test = keras.utils.to_categorical(y_test, n_classes)\n",
    "print(\"Shape after one-hot encoding: \", Y.shape)\n",
    "\n",
    "#X_train,X_test,y_train,y_test=train_test_split(X,Y,test_size=0.2)\n"
   ]
  },
  {
   "cell_type": "code",
   "execution_count": 3,
   "metadata": {},
   "outputs": [],
   "source": [
    "dense_layers=[0,1,2]\n",
    "layer_sizes=[64,128,164]\n",
    "conv_layers=[2,3,4]\n",
    "\n",
    "for dense_layer in dense_layers:\n",
    "    for layer_size in layer_sizes:\n",
    "        for conv_layer in conv_layers:\n",
    "            NAME_1=\"{}-conv-{}-nodes-{}-dense-{}\".format(conv_layer,layer_size,dense_layer,int(time.time()))\n",
    "            print(NAME_1)\n",
    "            model= Sequential()\n",
    "            #64 denotes the number of filters and (3,3) denotes the window size\n",
    "            model.add(Conv2D(164,(3,3),input_shape=X.shape[1:]))\n",
    "            model.add(Activation('relu'))\n",
    "            model.add(MaxPooling2D(pool_size=(2,2)))\n",
    "            \n",
    "            # -1 because we have already added a defaul conv layer and input_shape should always be present at first\n",
    "            for l in range(conv_layer-1):\n",
    "                model.add(Conv2D(164,(3,3)))\n",
    "                model.add(Activation('relu'))\n",
    "                model.add(MaxPooling2D(pool_size=(2,2)))\n",
    "\n",
    "            model.add(Flatten())\n",
    "            for l in range(dense_layer)\n",
    "            model.add(Dense(264, activation='relu',\n",
    "                        kernel_regularizer=regularizers.l2(0.003)))\n",
    "\n",
    "            model.add(Dense(58))\n",
    "            model.add(Activation('softmax'))\n",
    "\n",
    "# # define the grid search parameters\n",
    "# optimizer = ['SGD', 'RMSprop', 'Adagrad', 'Adadelta', 'Adam', 'Adamax', 'Nadam']\n",
    "# param_grid = dict(optimizer=optimizer)\n",
    "# grid = GridSearchCV(estimator=model, param_grid=param_grid, n_jobs=-1)\n",
    "# grid_result = grid.fit(X, Y)\n",
    "# # summarize results\n",
    "# print(\"Best: %f using %s\" % (grid_result.best_score_, grid_result.best_params_))\n",
    "# means = grid_result.cv_results_['mean_test_score']\n",
    "# stds = grid_result.cv_results_['std_test_score']\n",
    "# params = grid_result.cv_results_['params']\n",
    "# for mean, stdev, param in zip(means, stds, params):\n",
    "#     print(\"%f (%f) with: %r\" % (mean, stdev, param))"
   ]
  },
  {
   "cell_type": "code",
   "execution_count": 4,
   "metadata": {},
   "outputs": [],
   "source": [
    "model.compile(loss=\"categorical_crossentropy\",optimizer='adam',metrics=['accuracy'])\n"
   ]
  },
  {
   "cell_type": "code",
   "execution_count": 5,
   "metadata": {},
   "outputs": [
    {
     "name": "stdout",
     "output_type": "stream",
     "text": [
      "Train on 20659 samples, validate on 5165 samples\n",
      "Epoch 1/15\n",
      "20659/20659 [==============================] - 23s 1ms/step - loss: 1.2498 - acc: 0.7497 - val_loss: 0.8743 - val_acc: 0.8213\n",
      "Epoch 2/15\n",
      "20659/20659 [==============================] - 20s 988us/step - loss: 0.5702 - acc: 0.9089 - val_loss: 0.6641 - val_acc: 0.8724\n",
      "Epoch 3/15\n",
      "20659/20659 [==============================] - 21s 1ms/step - loss: 0.4636 - acc: 0.9341 - val_loss: 0.5892 - val_acc: 0.8956\n",
      "Epoch 4/15\n",
      "20659/20659 [==============================] - 21s 1ms/step - loss: 0.4046 - acc: 0.9478 - val_loss: 0.5470 - val_acc: 0.9057\n",
      "Epoch 5/15\n",
      "20659/20659 [==============================] - 20s 991us/step - loss: 0.3668 - acc: 0.9558 - val_loss: 0.5764 - val_acc: 0.8982\n",
      "Epoch 6/15\n",
      "20659/20659 [==============================] - 20s 986us/step - loss: 0.3474 - acc: 0.9594 - val_loss: 0.5255 - val_acc: 0.9084\n",
      "Epoch 7/15\n",
      "20659/20659 [==============================] - 20s 987us/step - loss: 0.3259 - acc: 0.9623 - val_loss: 0.5160 - val_acc: 0.9098\n",
      "Epoch 8/15\n",
      "20659/20659 [==============================] - 21s 1ms/step - loss: 0.3084 - acc: 0.9655 - val_loss: 0.4879 - val_acc: 0.9177\n",
      "Epoch 9/15\n",
      "20659/20659 [==============================] - 20s 983us/step - loss: 0.3017 - acc: 0.9672 - val_loss: 0.5155 - val_acc: 0.9173\n",
      "Epoch 10/15\n",
      "20659/20659 [==============================] - 21s 1ms/step - loss: 0.2842 - acc: 0.9716 - val_loss: 0.4534 - val_acc: 0.9253\n",
      "Epoch 11/15\n",
      "20659/20659 [==============================] - 20s 988us/step - loss: 0.2796 - acc: 0.9710 - val_loss: 0.4827 - val_acc: 0.9195\n",
      "Epoch 12/15\n",
      "20659/20659 [==============================] - 20s 992us/step - loss: 0.2825 - acc: 0.9707 - val_loss: 0.4582 - val_acc: 0.9262\n",
      "Epoch 13/15\n",
      "20659/20659 [==============================] - 21s 997us/step - loss: 0.2678 - acc: 0.9729 - val_loss: 0.4414 - val_acc: 0.9338\n",
      "Epoch 14/15\n",
      "20659/20659 [==============================] - 20s 989us/step - loss: 0.2616 - acc: 0.9746 - val_loss: 0.4533 - val_acc: 0.9307\n",
      "Epoch 15/15\n",
      "20659/20659 [==============================] - 21s 995us/step - loss: 0.2489 - acc: 0.9772 - val_loss: 0.4583 - val_acc: 0.9288\n"
     ]
    }
   ],
   "source": [
    "history=model.fit(X,Y,batch_size=30,validation_split=0.2,epochs=15, callbacks=[tensorboard])\n"
   ]
  },
  {
   "cell_type": "code",
   "execution_count": 6,
   "metadata": {},
   "outputs": [
    {
     "name": "stdout",
     "output_type": "stream",
     "text": [
      "Saved trained model at D:/nepali_cnn_model\\cnn.h5 \n"
     ]
    },
    {
     "data": {
      "text/plain": [
       "<matplotlib.legend.Legend at 0x125dc44fdd8>"
      ]
     },
     "execution_count": 6,
     "metadata": {},
     "output_type": "execute_result"
    },
    {
     "data": {
      "image/png": "[encoded data removed]",
      "text/plain": [
       "<Figure size 432x288 with 2 Axes>"
      ]
     },
     "metadata": {},
     "output_type": "display_data"
    }
   ],
   "source": [
    "# saving the model\n",
    "save_dir = \"D:/nepali_cnn_model\"\n",
    "model_name = 'cnn.h5'\n",
    "model_path = os.path.join(save_dir, model_name)\n",
    "model.save(model_path)\n",
    "print('Saved trained model at %s ' % model_path)\n",
    "\n",
    "\n",
    "# plotting the metrics\n",
    "fig = plt.figure()\n",
    "plt.subplot(2,1,1)\n",
    "plt.plot(history.history['acc'])\n",
    "plt.plot(history.history['val_acc'])\n",
    "plt.title('model accuracy')\n",
    "plt.ylabel('accuracy')\n",
    "plt.xlabel('epoch')\n",
    "\n",
    "plt.subplot(2,1,2)\n",
    "plt.plot(history.history['loss'])\n",
    "plt.plot(history.history['val_loss'])\n",
    "plt.title('model loss')\n",
    "plt.ylabel('loss')\n",
    "plt.xlabel('epoch')\n",
    "plt.legend(['train', 'test'], loc='upper right')\n",
    "\n",
    "plt.tight_layout()\n",
    "\n",
    "fig\n",
    "plt.legend(['train', 'test'], loc='lower right')\n"
   ]
  },
  {
   "cell_type": "code",
   "execution_count": 16,
   "metadata": {},
   "outputs": [
    {
     "name": "stdout",
     "output_type": "stream",
     "text": [
      "(25824, 36, 36, 1)\n"
     ]
    }
   ],
   "source": [
    "print(X.shape)"
   ]
  },
  {
   "cell_type": "code",
   "execution_count": 7,
   "metadata": {},
   "outputs": [
    {
     "name": "stdout",
     "output_type": "stream",
     "text": [
      "[[[1.        ]\n",
      "  [1.        ]\n",
      "  [0.99607843]\n",
      "  ...\n",
      "  [1.        ]\n",
      "  [1.        ]\n",
      "  [0.98823529]]\n",
      "\n",
      " [[1.        ]\n",
      "  [1.        ]\n",
      "  [0.99607843]\n",
      "  ...\n",
      "  [1.        ]\n",
      "  [1.        ]\n",
      "  [0.97647059]]\n",
      "\n",
      " [[1.        ]\n",
      "  [1.        ]\n",
      "  [0.99607843]\n",
      "  ...\n",
      "  [1.        ]\n",
      "  [0.99607843]\n",
      "  [0.98823529]]\n",
      "\n",
      " ...\n",
      "\n",
      " [[0.90588235]\n",
      "  [1.        ]\n",
      "  [0.97647059]\n",
      "  ...\n",
      "  [1.        ]\n",
      "  [1.        ]\n",
      "  [1.        ]]\n",
      "\n",
      " [[0.99215686]\n",
      "  [0.95294118]\n",
      "  [0.99607843]\n",
      "  ...\n",
      "  [1.        ]\n",
      "  [1.        ]\n",
      "  [1.        ]]\n",
      "\n",
      " [[0.96862745]\n",
      "  [0.96470588]\n",
      "  [1.        ]\n",
      "  ...\n",
      "  [1.        ]\n",
      "  [1.        ]\n",
      "  [1.        ]]]\n"
     ]
    }
   ],
   "source": [
    "print(X[1])"
   ]
  },
  {
   "cell_type": "code",
   "execution_count": 8,
   "metadata": {},
   "outputs": [],
   "source": [
    "temp=np.array(X[1]).reshape(-1,36,36,1)"
   ]
  },
  {
   "cell_type": "code",
   "execution_count": 9,
   "metadata": {},
   "outputs": [
    {
     "name": "stdout",
     "output_type": "stream",
     "text": [
      "[[[[1.        ]\n",
      "   [1.        ]\n",
      "   [0.99607843]\n",
      "   ...\n",
      "   [1.        ]\n",
      "   [1.        ]\n",
      "   [0.98823529]]\n",
      "\n",
      "  [[1.        ]\n",
      "   [1.        ]\n",
      "   [0.99607843]\n",
      "   ...\n",
      "   [1.        ]\n",
      "   [1.        ]\n",
      "   [0.97647059]]\n",
      "\n",
      "  [[1.        ]\n",
      "   [1.        ]\n",
      "   [0.99607843]\n",
      "   ...\n",
      "   [1.        ]\n",
      "   [0.99607843]\n",
      "   [0.98823529]]\n",
      "\n",
      "  ...\n",
      "\n",
      "  [[0.90588235]\n",
      "   [1.        ]\n",
      "   [0.97647059]\n",
      "   ...\n",
      "   [1.        ]\n",
      "   [1.        ]\n",
      "   [1.        ]]\n",
      "\n",
      "  [[0.99215686]\n",
      "   [0.95294118]\n",
      "   [0.99607843]\n",
      "   ...\n",
      "   [1.        ]\n",
      "   [1.        ]\n",
      "   [1.        ]]\n",
      "\n",
      "  [[0.96862745]\n",
      "   [0.96470588]\n",
      "   [1.        ]\n",
      "   ...\n",
      "   [1.        ]\n",
      "   [1.        ]\n",
      "   [1.        ]]]]\n"
     ]
    }
   ],
   "source": [
    "print(temp) "
   ]
  },
  {
   "cell_type": "code",
   "execution_count": null,
   "metadata": {},
   "outputs": [],
   "source": []
  }
 ],
 "metadata": {
  "kernelspec": {
   "display_name": "Python 3",
   "language": "python",
   "name": "python3"
  },
  "language_info": {
   "codemirror_mode": {
    "name": "ipython",
    "version": 3
   },
   "file_extension": ".py",
   "mimetype": "text/x-python",
   "name": "python",
   "nbconvert_exporter": "python",
   "pygments_lexer": "ipython3",
   "version": "3.6.5"
  }
 },
 "nbformat": 4,
 "nbformat_minor": 2
}
